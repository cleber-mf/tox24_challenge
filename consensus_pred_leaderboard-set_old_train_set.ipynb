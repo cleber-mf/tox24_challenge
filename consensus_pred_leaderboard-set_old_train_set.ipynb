{
 "cells": [
  {
   "metadata": {},
   "cell_type": "markdown",
   "source": "##### Prediction of leaderboard external set by the old model (old training set)",
   "id": "b373c26acf4f6682"
  },
  {
   "cell_type": "code",
   "id": "initial_id",
   "metadata": {
    "collapsed": true,
    "ExecuteTime": {
     "end_time": "2024-08-31T19:18:04.640148Z",
     "start_time": "2024-08-31T19:18:03.744344Z"
    }
   },
   "source": [
    "import numpy as np\n",
    "import pandas as pd\n",
    "import seaborn as sns\n",
    "import matplotlib.pyplot as plt\n",
    "import _pickle as cPickle\n",
    "import gzip\n",
    "\n",
    "from stats import *\n",
    "\n",
    "from collections import Counter\n",
    "\n",
    "from rdkit import Chem\n",
    "from rdkit.Chem import Draw\n",
    "from rdkit.Chem import PandasTools\n",
    "from rdkit.Chem.Draw import IPythonConsole\n",
    "from rdkit.Chem import AllChem\n",
    "from rdkit.Chem import Descriptors\n",
    "from rdkit.Chem import MACCSkeys\n",
    "\n",
    "from sklearn import metrics\n",
    "from sklearn.ensemble import RandomForestRegressor\n",
    "from sklearn.feature_selection import VarianceThreshold\n",
    "from sklearn.model_selection import train_test_split, cross_validate, GridSearchCV\n",
    "from sklearn.model_selection import permutation_test_score, StratifiedKFold\n",
    "\n",
    "def warn(*args, **kwargs):\n",
    "    pass\n",
    "import warnings\n",
    "warnings.filterwarnings(\"ignore\")\n",
    "warnings.warn = warn\n",
    "\n",
    "from IPython.core.interactiveshell import InteractiveShell\n",
    "InteractiveShell.ast_node_interactivity = \"all\"\n",
    "%matplotlib inline\n",
    "%reload_ext autoreload\n",
    "%autoreload 2\n",
    "Draw.DrawingOptions.atomLabelFontFace = \"DejaVu Sans\"\n",
    "Draw.DrawingOptions.atomLabelFontSize = 18\n",
    "\n",
    "from IPython.core.display import display, HTML\n",
    "display(HTML(\"<style>.container { width:90% !important; }</style>\"))"
   ],
   "outputs": [
    {
     "data": {
      "text/plain": [
       "<IPython.core.display.HTML object>"
      ],
      "text/html": [
       "<style>.container { width:90% !important; }</style>"
      ]
     },
     "metadata": {},
     "output_type": "display_data"
    }
   ],
   "execution_count": 1
  },
  {
   "metadata": {},
   "cell_type": "markdown",
   "source": "### Import leaderboard set",
   "id": "6c577d5bd209a9d2"
  },
  {
   "metadata": {
    "ExecuteTime": {
     "end_time": "2024-08-31T19:18:05.230138Z",
     "start_time": "2024-08-31T19:18:04.645311Z"
    }
   },
   "cell_type": "code",
   "source": [
    "# Set file path and format\n",
    "file = 'leaderboard_set_curated.sdf'\n",
    "\n",
    "# Read SDF\n",
    "sdfInfo = dict(molColName='ROMol')\n",
    "moldf = PandasTools.LoadSDF(file, **sdfInfo);\n",
    "#print('Original data: ', moldf.shape)\n",
    "# Rename ROMol\n",
    "moldf = moldf.rename(columns={'ROMol': 'Mol'})\n",
    "# Remove missing RDKit molecules\n",
    "moldf = moldf[pd.notnull(moldf['Mol'])]\n",
    "if 'StandardizerResult' in moldf.columns:\n",
    "    moldf = moldf.drop(columns='StandardizerResult')"
   ],
   "id": "4713e766b4911f0",
   "outputs": [],
   "execution_count": 2
  },
  {
   "metadata": {},
   "cell_type": "markdown",
   "source": "##### Calculate Morgan Fingerprints",
   "id": "d69fe40e5904fefe"
  },
  {
   "metadata": {
    "ExecuteTime": {
     "end_time": "2024-08-31T19:18:05.249242Z",
     "start_time": "2024-08-31T19:18:05.230957Z"
    }
   },
   "cell_type": "code",
   "source": [
    "def calcfp(mol,funcFPInfo=dict(radius=2, nBits=2048, useFeatures=False, useChirality=False)):\n",
    "    fp = AllChem.GetMorganFingerprintAsBitVect(mol, **funcFPInfo)\n",
    "    fp = pd.Series(np.asarray(fp))\n",
    "    fp = fp.add_prefix('Bit_')\n",
    "    return fp"
   ],
   "id": "5e75c56a58744174",
   "outputs": [],
   "execution_count": 3
  },
  {
   "metadata": {},
   "cell_type": "markdown",
   "source": "##### Calculate MACCS",
   "id": "bae658655e5c2889"
  },
  {
   "metadata": {
    "ExecuteTime": {
     "end_time": "2024-08-31T19:18:05.267419Z",
     "start_time": "2024-08-31T19:18:05.250143Z"
    }
   },
   "cell_type": "code",
   "source": [
    "def maccs(mol):\n",
    "    fp = MACCSkeys.GenMACCSKeys(mol)\n",
    "    fp = pd.Series(np.asarray(fp))\n",
    "    fp = fp.add_prefix('Bit_')\n",
    "    return fp"
   ],
   "id": "54eb0009393484da",
   "outputs": [],
   "execution_count": 4
  },
  {
   "metadata": {
    "ExecuteTime": {
     "end_time": "2024-08-31T19:18:06.324439Z",
     "start_time": "2024-08-31T19:18:05.268387Z"
    }
   },
   "cell_type": "code",
   "source": [
    "X_vs_morgan = moldf.Mol.apply(calcfp)\n",
    "X_vs_maccs = moldf.Mol.apply(maccs)"
   ],
   "id": "3a4e6b9a129bfcb0",
   "outputs": [
    {
     "name": "stderr",
     "output_type": "stream",
     "text": [
      "[15:18:05] DEPRECATION WARNING: please use MorganGenerator\n",
      "[15:18:05] DEPRECATION WARNING: please use MorganGenerator\n",
      "[15:18:05] DEPRECATION WARNING: please use MorganGenerator\n",
      "[15:18:05] DEPRECATION WARNING: please use MorganGenerator\n",
      "[15:18:05] DEPRECATION WARNING: please use MorganGenerator\n",
      "[15:18:05] DEPRECATION WARNING: please use MorganGenerator\n",
      "[15:18:05] DEPRECATION WARNING: please use MorganGenerator\n",
      "[15:18:05] DEPRECATION WARNING: please use MorganGenerator\n",
      "[15:18:05] DEPRECATION WARNING: please use MorganGenerator\n",
      "[15:18:05] DEPRECATION WARNING: please use MorganGenerator\n",
      "[15:18:05] DEPRECATION WARNING: please use MorganGenerator\n",
      "[15:18:05] DEPRECATION WARNING: please use MorganGenerator\n",
      "[15:18:05] DEPRECATION WARNING: please use MorganGenerator\n",
      "[15:18:05] DEPRECATION WARNING: please use MorganGenerator\n",
      "[15:18:05] DEPRECATION WARNING: please use MorganGenerator\n",
      "[15:18:05] DEPRECATION WARNING: please use MorganGenerator\n",
      "[15:18:05] DEPRECATION WARNING: please use MorganGenerator\n",
      "[15:18:05] DEPRECATION WARNING: please use MorganGenerator\n",
      "[15:18:05] DEPRECATION WARNING: please use MorganGenerator\n",
      "[15:18:05] DEPRECATION WARNING: please use MorganGenerator\n",
      "[15:18:05] DEPRECATION WARNING: please use MorganGenerator\n",
      "[15:18:05] DEPRECATION WARNING: please use MorganGenerator\n",
      "[15:18:05] DEPRECATION WARNING: please use MorganGenerator\n",
      "[15:18:05] DEPRECATION WARNING: please use MorganGenerator\n",
      "[15:18:05] DEPRECATION WARNING: please use MorganGenerator\n",
      "[15:18:05] DEPRECATION WARNING: please use MorganGenerator\n",
      "[15:18:05] DEPRECATION WARNING: please use MorganGenerator\n",
      "[15:18:05] DEPRECATION WARNING: please use MorganGenerator\n",
      "[15:18:05] DEPRECATION WARNING: please use MorganGenerator\n",
      "[15:18:05] DEPRECATION WARNING: please use MorganGenerator\n",
      "[15:18:05] DEPRECATION WARNING: please use MorganGenerator\n",
      "[15:18:05] DEPRECATION WARNING: please use MorganGenerator\n",
      "[15:18:05] DEPRECATION WARNING: please use MorganGenerator\n",
      "[15:18:05] DEPRECATION WARNING: please use MorganGenerator\n",
      "[15:18:05] DEPRECATION WARNING: please use MorganGenerator\n",
      "[15:18:05] DEPRECATION WARNING: please use MorganGenerator\n",
      "[15:18:05] DEPRECATION WARNING: please use MorganGenerator\n",
      "[15:18:05] DEPRECATION WARNING: please use MorganGenerator\n",
      "[15:18:05] DEPRECATION WARNING: please use MorganGenerator\n",
      "[15:18:05] DEPRECATION WARNING: please use MorganGenerator\n",
      "[15:18:05] DEPRECATION WARNING: please use MorganGenerator\n",
      "[15:18:05] DEPRECATION WARNING: please use MorganGenerator\n",
      "[15:18:05] DEPRECATION WARNING: please use MorganGenerator\n",
      "[15:18:05] DEPRECATION WARNING: please use MorganGenerator\n",
      "[15:18:05] DEPRECATION WARNING: please use MorganGenerator\n",
      "[15:18:05] DEPRECATION WARNING: please use MorganGenerator\n",
      "[15:18:05] DEPRECATION WARNING: please use MorganGenerator\n",
      "[15:18:05] DEPRECATION WARNING: please use MorganGenerator\n",
      "[15:18:05] DEPRECATION WARNING: please use MorganGenerator\n",
      "[15:18:05] DEPRECATION WARNING: please use MorganGenerator\n",
      "[15:18:05] DEPRECATION WARNING: please use MorganGenerator\n",
      "[15:18:05] DEPRECATION WARNING: please use MorganGenerator\n",
      "[15:18:05] DEPRECATION WARNING: please use MorganGenerator\n",
      "[15:18:05] DEPRECATION WARNING: please use MorganGenerator\n",
      "[15:18:05] DEPRECATION WARNING: please use MorganGenerator\n",
      "[15:18:05] DEPRECATION WARNING: please use MorganGenerator\n",
      "[15:18:05] DEPRECATION WARNING: please use MorganGenerator\n",
      "[15:18:05] DEPRECATION WARNING: please use MorganGenerator\n",
      "[15:18:05] DEPRECATION WARNING: please use MorganGenerator\n",
      "[15:18:05] DEPRECATION WARNING: please use MorganGenerator\n",
      "[15:18:05] DEPRECATION WARNING: please use MorganGenerator\n",
      "[15:18:05] DEPRECATION WARNING: please use MorganGenerator\n",
      "[15:18:05] DEPRECATION WARNING: please use MorganGenerator\n",
      "[15:18:05] DEPRECATION WARNING: please use MorganGenerator\n",
      "[15:18:05] DEPRECATION WARNING: please use MorganGenerator\n",
      "[15:18:05] DEPRECATION WARNING: please use MorganGenerator\n",
      "[15:18:05] DEPRECATION WARNING: please use MorganGenerator\n",
      "[15:18:05] DEPRECATION WARNING: please use MorganGenerator\n",
      "[15:18:05] DEPRECATION WARNING: please use MorganGenerator\n",
      "[15:18:05] DEPRECATION WARNING: please use MorganGenerator\n",
      "[15:18:05] DEPRECATION WARNING: please use MorganGenerator\n",
      "[15:18:05] DEPRECATION WARNING: please use MorganGenerator\n",
      "[15:18:05] DEPRECATION WARNING: please use MorganGenerator\n",
      "[15:18:05] DEPRECATION WARNING: please use MorganGenerator\n",
      "[15:18:05] DEPRECATION WARNING: please use MorganGenerator\n",
      "[15:18:05] DEPRECATION WARNING: please use MorganGenerator\n",
      "[15:18:05] DEPRECATION WARNING: please use MorganGenerator\n",
      "[15:18:05] DEPRECATION WARNING: please use MorganGenerator\n",
      "[15:18:05] DEPRECATION WARNING: please use MorganGenerator\n",
      "[15:18:05] DEPRECATION WARNING: please use MorganGenerator\n",
      "[15:18:05] DEPRECATION WARNING: please use MorganGenerator\n",
      "[15:18:05] DEPRECATION WARNING: please use MorganGenerator\n",
      "[15:18:05] DEPRECATION WARNING: please use MorganGenerator\n",
      "[15:18:05] DEPRECATION WARNING: please use MorganGenerator\n",
      "[15:18:05] DEPRECATION WARNING: please use MorganGenerator\n",
      "[15:18:05] DEPRECATION WARNING: please use MorganGenerator\n",
      "[15:18:05] DEPRECATION WARNING: please use MorganGenerator\n",
      "[15:18:05] DEPRECATION WARNING: please use MorganGenerator\n",
      "[15:18:05] DEPRECATION WARNING: please use MorganGenerator\n",
      "[15:18:05] DEPRECATION WARNING: please use MorganGenerator\n",
      "[15:18:05] DEPRECATION WARNING: please use MorganGenerator\n",
      "[15:18:05] DEPRECATION WARNING: please use MorganGenerator\n",
      "[15:18:05] DEPRECATION WARNING: please use MorganGenerator\n",
      "[15:18:05] DEPRECATION WARNING: please use MorganGenerator\n",
      "[15:18:05] DEPRECATION WARNING: please use MorganGenerator\n",
      "[15:18:05] DEPRECATION WARNING: please use MorganGenerator\n",
      "[15:18:05] DEPRECATION WARNING: please use MorganGenerator\n",
      "[15:18:05] DEPRECATION WARNING: please use MorganGenerator\n",
      "[15:18:05] DEPRECATION WARNING: please use MorganGenerator\n",
      "[15:18:05] DEPRECATION WARNING: please use MorganGenerator\n",
      "[15:18:05] DEPRECATION WARNING: please use MorganGenerator\n",
      "[15:18:05] DEPRECATION WARNING: please use MorganGenerator\n",
      "[15:18:05] DEPRECATION WARNING: please use MorganGenerator\n",
      "[15:18:05] DEPRECATION WARNING: please use MorganGenerator\n",
      "[15:18:05] DEPRECATION WARNING: please use MorganGenerator\n",
      "[15:18:05] DEPRECATION WARNING: please use MorganGenerator\n",
      "[15:18:05] DEPRECATION WARNING: please use MorganGenerator\n",
      "[15:18:05] DEPRECATION WARNING: please use MorganGenerator\n",
      "[15:18:05] DEPRECATION WARNING: please use MorganGenerator\n",
      "[15:18:05] DEPRECATION WARNING: please use MorganGenerator\n",
      "[15:18:05] DEPRECATION WARNING: please use MorganGenerator\n",
      "[15:18:05] DEPRECATION WARNING: please use MorganGenerator\n",
      "[15:18:05] DEPRECATION WARNING: please use MorganGenerator\n",
      "[15:18:05] DEPRECATION WARNING: please use MorganGenerator\n",
      "[15:18:05] DEPRECATION WARNING: please use MorganGenerator\n",
      "[15:18:05] DEPRECATION WARNING: please use MorganGenerator\n",
      "[15:18:05] DEPRECATION WARNING: please use MorganGenerator\n",
      "[15:18:05] DEPRECATION WARNING: please use MorganGenerator\n",
      "[15:18:05] DEPRECATION WARNING: please use MorganGenerator\n",
      "[15:18:05] DEPRECATION WARNING: please use MorganGenerator\n",
      "[15:18:05] DEPRECATION WARNING: please use MorganGenerator\n",
      "[15:18:05] DEPRECATION WARNING: please use MorganGenerator\n",
      "[15:18:05] DEPRECATION WARNING: please use MorganGenerator\n",
      "[15:18:05] DEPRECATION WARNING: please use MorganGenerator\n",
      "[15:18:05] DEPRECATION WARNING: please use MorganGenerator\n",
      "[15:18:05] DEPRECATION WARNING: please use MorganGenerator\n",
      "[15:18:05] DEPRECATION WARNING: please use MorganGenerator\n",
      "[15:18:05] DEPRECATION WARNING: please use MorganGenerator\n",
      "[15:18:05] DEPRECATION WARNING: please use MorganGenerator\n",
      "[15:18:05] DEPRECATION WARNING: please use MorganGenerator\n",
      "[15:18:05] DEPRECATION WARNING: please use MorganGenerator\n",
      "[15:18:05] DEPRECATION WARNING: please use MorganGenerator\n",
      "[15:18:05] DEPRECATION WARNING: please use MorganGenerator\n",
      "[15:18:05] DEPRECATION WARNING: please use MorganGenerator\n",
      "[15:18:05] DEPRECATION WARNING: please use MorganGenerator\n",
      "[15:18:05] DEPRECATION WARNING: please use MorganGenerator\n",
      "[15:18:05] DEPRECATION WARNING: please use MorganGenerator\n",
      "[15:18:05] DEPRECATION WARNING: please use MorganGenerator\n",
      "[15:18:05] DEPRECATION WARNING: please use MorganGenerator\n",
      "[15:18:05] DEPRECATION WARNING: please use MorganGenerator\n",
      "[15:18:05] DEPRECATION WARNING: please use MorganGenerator\n",
      "[15:18:05] DEPRECATION WARNING: please use MorganGenerator\n",
      "[15:18:05] DEPRECATION WARNING: please use MorganGenerator\n",
      "[15:18:05] DEPRECATION WARNING: please use MorganGenerator\n",
      "[15:18:05] DEPRECATION WARNING: please use MorganGenerator\n",
      "[15:18:05] DEPRECATION WARNING: please use MorganGenerator\n",
      "[15:18:05] DEPRECATION WARNING: please use MorganGenerator\n",
      "[15:18:05] DEPRECATION WARNING: please use MorganGenerator\n",
      "[15:18:05] DEPRECATION WARNING: please use MorganGenerator\n",
      "[15:18:05] DEPRECATION WARNING: please use MorganGenerator\n",
      "[15:18:05] DEPRECATION WARNING: please use MorganGenerator\n",
      "[15:18:05] DEPRECATION WARNING: please use MorganGenerator\n",
      "[15:18:05] DEPRECATION WARNING: please use MorganGenerator\n",
      "[15:18:05] DEPRECATION WARNING: please use MorganGenerator\n",
      "[15:18:05] DEPRECATION WARNING: please use MorganGenerator\n",
      "[15:18:05] DEPRECATION WARNING: please use MorganGenerator\n",
      "[15:18:05] DEPRECATION WARNING: please use MorganGenerator\n",
      "[15:18:05] DEPRECATION WARNING: please use MorganGenerator\n",
      "[15:18:05] DEPRECATION WARNING: please use MorganGenerator\n",
      "[15:18:05] DEPRECATION WARNING: please use MorganGenerator\n",
      "[15:18:05] DEPRECATION WARNING: please use MorganGenerator\n",
      "[15:18:05] DEPRECATION WARNING: please use MorganGenerator\n",
      "[15:18:05] DEPRECATION WARNING: please use MorganGenerator\n",
      "[15:18:05] DEPRECATION WARNING: please use MorganGenerator\n",
      "[15:18:05] DEPRECATION WARNING: please use MorganGenerator\n",
      "[15:18:05] DEPRECATION WARNING: please use MorganGenerator\n",
      "[15:18:05] DEPRECATION WARNING: please use MorganGenerator\n",
      "[15:18:05] DEPRECATION WARNING: please use MorganGenerator\n",
      "[15:18:05] DEPRECATION WARNING: please use MorganGenerator\n",
      "[15:18:05] DEPRECATION WARNING: please use MorganGenerator\n",
      "[15:18:05] DEPRECATION WARNING: please use MorganGenerator\n",
      "[15:18:05] DEPRECATION WARNING: please use MorganGenerator\n",
      "[15:18:05] DEPRECATION WARNING: please use MorganGenerator\n",
      "[15:18:05] DEPRECATION WARNING: please use MorganGenerator\n",
      "[15:18:05] DEPRECATION WARNING: please use MorganGenerator\n",
      "[15:18:05] DEPRECATION WARNING: please use MorganGenerator\n",
      "[15:18:05] DEPRECATION WARNING: please use MorganGenerator\n",
      "[15:18:05] DEPRECATION WARNING: please use MorganGenerator\n",
      "[15:18:05] DEPRECATION WARNING: please use MorganGenerator\n",
      "[15:18:05] DEPRECATION WARNING: please use MorganGenerator\n",
      "[15:18:05] DEPRECATION WARNING: please use MorganGenerator\n",
      "[15:18:05] DEPRECATION WARNING: please use MorganGenerator\n",
      "[15:18:05] DEPRECATION WARNING: please use MorganGenerator\n"
     ]
    }
   ],
   "execution_count": 5
  },
  {
   "metadata": {
    "ExecuteTime": {
     "end_time": "2024-08-31T19:18:06.346806Z",
     "start_time": "2024-08-31T19:18:06.325587Z"
    }
   },
   "cell_type": "code",
   "source": [
    "X_vs_morgan.shape\n",
    "X_vs_maccs.shape"
   ],
   "id": "29e042aee677238b",
   "outputs": [
    {
     "data": {
      "text/plain": [
       "(183, 2048)"
      ]
     },
     "execution_count": 6,
     "metadata": {},
     "output_type": "execute_result"
    },
    {
     "data": {
      "text/plain": [
       "(183, 167)"
      ]
     },
     "execution_count": 6,
     "metadata": {},
     "output_type": "execute_result"
    }
   ],
   "execution_count": 6
  },
  {
   "metadata": {},
   "cell_type": "markdown",
   "source": "",
   "id": "4e8d4dcc54b81950"
  },
  {
   "metadata": {
    "ExecuteTime": {
     "end_time": "2024-08-31T19:18:06.572317Z",
     "start_time": "2024-08-31T19:18:06.347883Z"
    }
   },
   "cell_type": "code",
   "source": [
    "with gzip.open('model_train_set_morgan-rf.pgz', 'rb') as f:\n",
    "    morgan_model = cPickle.load(f)"
   ],
   "id": "f457be04dc0e0980",
   "outputs": [],
   "execution_count": 7
  },
  {
   "metadata": {
    "ExecuteTime": {
     "end_time": "2024-08-31T19:18:06.723512Z",
     "start_time": "2024-08-31T19:18:06.573350Z"
    }
   },
   "cell_type": "code",
   "source": [
    "with gzip.open('model_train_set_maccs-rf.pgz', 'rb') as f:\n",
    "    maccs_model= cPickle.load(f)"
   ],
   "id": "eeb23506ba99666",
   "outputs": [],
   "execution_count": 8
  },
  {
   "metadata": {
    "ExecuteTime": {
     "end_time": "2024-08-31T19:18:06.943352Z",
     "start_time": "2024-08-31T19:18:06.724479Z"
    }
   },
   "cell_type": "code",
   "source": [
    "# Make predictions\n",
    "y_ext = moldf['activity'].to_numpy()\n",
    "\n",
    "morgan_pred = morgan_model.predict(X_vs_morgan)\n",
    "maccs_pred = maccs_model.predict(X_vs_maccs)\n",
    "\n",
    "# Prepare data\n",
    "predictions = pd.DataFrame({'morgan_prediction': morgan_pred, 'maccs_prediction': maccs_pred})\n",
    "predictions.sort_index(inplace=True)\n",
    "predictions['y_ext'] = pd.DataFrame(y_ext)"
   ],
   "id": "771514b4d8e508b5",
   "outputs": [],
   "execution_count": 9
  },
  {
   "metadata": {
    "ExecuteTime": {
     "end_time": "2024-08-31T19:18:06.983046Z",
     "start_time": "2024-08-31T19:18:06.944974Z"
    }
   },
   "cell_type": "code",
   "source": [
    "# ext_set Morgan stats\n",
    "ext_set_morgan_stats = pd.DataFrame(regression_stats(predictions['y_ext'], predictions['morgan_prediction']))\n",
    "ext_set_maccs_stats = pd.DataFrame(regression_stats(predictions['y_ext'], predictions['maccs_prediction']))\n",
    "consensus_pred = (morgan_pred + maccs_pred) /2\n",
    "consensus_stats = pd.DataFrame(regression_stats(predictions['y_ext'], consensus_pred))\n",
    "all_stats = pd.concat([ext_set_morgan_stats, ext_set_maccs_stats, consensus_stats], axis=0) \n",
    "all_stats['model'] = ['Morgan-RF', 'Maccs-RF', 'Consensus' ]\n",
    "\n",
    "# Print stats\n",
    "print('\\033[1m' + 'Statistical Characteristics of the Predictions for the External Leaderboard Set' + '\\n' + '\\033[0m')\n",
    "all_stats"
   ],
   "id": "a834a0910b0e85c2",
   "outputs": [
    {
     "name": "stdout",
     "output_type": "stream",
     "text": [
      "\u001B[1mStatistical Characteristics of the Predictions for the External Leaderboard Set\n",
      "\u001B[0m\n"
     ]
    },
    {
     "data": {
      "text/plain": [
       "   Mean Absolute Error (MAE)  Mean Squared Error (MSE)  \\\n",
       "0                      20.29                    677.30   \n",
       "0                      19.74                    651.27   \n",
       "0                      19.71                    633.86   \n",
       "\n",
       "   Root Mean Squared Error (RMSE)  R-squared (R2)      model  \n",
       "0                           26.03            0.40  Morgan-RF  \n",
       "0                           25.52            0.42   Maccs-RF  \n",
       "0                           25.18            0.44  Consensus  "
      ],
      "text/html": [
       "<div>\n",
       "<style scoped>\n",
       "    .dataframe tbody tr th:only-of-type {\n",
       "        vertical-align: middle;\n",
       "    }\n",
       "\n",
       "    .dataframe tbody tr th {\n",
       "        vertical-align: top;\n",
       "    }\n",
       "\n",
       "    .dataframe thead th {\n",
       "        text-align: right;\n",
       "    }\n",
       "</style>\n",
       "<table border=\"1\" class=\"dataframe\">\n",
       "  <thead>\n",
       "    <tr style=\"text-align: right;\">\n",
       "      <th></th>\n",
       "      <th>Mean Absolute Error (MAE)</th>\n",
       "      <th>Mean Squared Error (MSE)</th>\n",
       "      <th>Root Mean Squared Error (RMSE)</th>\n",
       "      <th>R-squared (R2)</th>\n",
       "      <th>model</th>\n",
       "    </tr>\n",
       "  </thead>\n",
       "  <tbody>\n",
       "    <tr>\n",
       "      <th>0</th>\n",
       "      <td>20.29</td>\n",
       "      <td>677.30</td>\n",
       "      <td>26.03</td>\n",
       "      <td>0.40</td>\n",
       "      <td>Morgan-RF</td>\n",
       "    </tr>\n",
       "    <tr>\n",
       "      <th>0</th>\n",
       "      <td>19.74</td>\n",
       "      <td>651.27</td>\n",
       "      <td>25.52</td>\n",
       "      <td>0.42</td>\n",
       "      <td>Maccs-RF</td>\n",
       "    </tr>\n",
       "    <tr>\n",
       "      <th>0</th>\n",
       "      <td>19.71</td>\n",
       "      <td>633.86</td>\n",
       "      <td>25.18</td>\n",
       "      <td>0.44</td>\n",
       "      <td>Consensus</td>\n",
       "    </tr>\n",
       "  </tbody>\n",
       "</table>\n",
       "</div>"
      ]
     },
     "execution_count": 10,
     "metadata": {},
     "output_type": "execute_result"
    }
   ],
   "execution_count": 10
  }
 ],
 "metadata": {
  "kernelspec": {
   "display_name": "Python 3",
   "language": "python",
   "name": "python3"
  },
  "language_info": {
   "codemirror_mode": {
    "name": "ipython",
    "version": 2
   },
   "file_extension": ".py",
   "mimetype": "text/x-python",
   "name": "python",
   "nbconvert_exporter": "python",
   "pygments_lexer": "ipython2",
   "version": "2.7.6"
  }
 },
 "nbformat": 4,
 "nbformat_minor": 5
}
